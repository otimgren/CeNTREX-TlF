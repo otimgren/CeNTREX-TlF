{
 "cells": [
  {
   "cell_type": "markdown",
   "id": "b1b44051-047b-44e5-a5aa-bc1cafb2548f",
   "metadata": {},
   "source": [
    "# Detection simulations for SPA"
   ]
  },
  {
   "cell_type": "markdown",
   "id": "1c7b3501-e19a-4400-ba88-ed858035abd7",
   "metadata": {},
   "source": [
    "## Import packages"
   ]
  },
  {
   "cell_type": "code",
   "execution_count": null,
   "id": "b9d5b43a-5ffe-4086-857b-61107b2eecd8",
   "metadata": {},
   "outputs": [],
   "source": [
    "%load_ext autoreload\n",
    "%autoreload 2\n",
    "\n",
    "from pathlib import Path\n",
    "\n",
    "from julia import Main\n",
    "import matplotlib.pyplot as plt\n",
    "plt.style.use(['seaborn-deep', 'notebook'])\n",
    "import numpy as np\n",
    "import pandas as pd\n",
    "import seaborn as sns\n",
    "import sympy as smp\n",
    "from sympy import Symbol, symbols\n",
    "from tqdm.notebook import tqdm\n",
    "\n",
    "\n",
    "import centrex_TlF as centrex\n",
    "import trajectories\n",
    "from SPA_utilities import run_traj_ensemble_simulation, bootstrap_frequency_scan"
   ]
  },
  {
   "cell_type": "markdown",
   "id": "01ec403f-d331-4511-91e1-8a611f1138a9",
   "metadata": {},
   "source": [
    "## Define states"
   ]
  },
  {
   "cell_type": "code",
   "execution_count": null,
   "id": "d4c3f23e-ca31-45b6-a9a5-25f17ddc3c55",
   "metadata": {},
   "outputs": [],
   "source": [
    "# Define ground states\n",
    "gnd = [centrex.states.QuantumSelector(J=1,  electronic='X'),\n",
    "       centrex.states.QuantumSelector(J=3, electronic= 'X')]\n",
    "\n",
    "# Define excited states\n",
    "exc = [centrex.states.QuantumSelector(J=2, F=3, F1=5/2, electronic = 'B', P = +1)]\n",
    "\n",
    "# Define ground and excited states for laser\n",
    "gnd_laser = [centrex.states.QuantumSelector(J=1, F=2,  electronic='X')]\n",
    "exc_laser = exc"
   ]
  },
  {
   "cell_type": "markdown",
   "id": "0026f47a-3c90-401b-9d90-aebbf87fe07b",
   "metadata": {},
   "source": [
    "## Define parameters for simulation\n",
    "### System parameters"
   ]
  },
  {
   "cell_type": "code",
   "execution_count": null,
   "id": "69119afd-6f33-491d-9a6a-369902223c27",
   "metadata": {},
   "outputs": [],
   "source": [
    "syspars = centrex.states.SystemParameters(\n",
    "    nprocs  = 3,\n",
    "    Γ       = 2*np.pi*1.56e6,\n",
    "    ground  = gnd,\n",
    "    excited = exc\n",
    ")"
   ]
  },
  {
   "cell_type": "markdown",
   "id": "f8fb17e3-03b7-467e-bbcf-306ab9f5595d",
   "metadata": {},
   "source": [
    "### Parameters for Bloch Equations"
   ]
  },
  {
   "cell_type": "code",
   "execution_count": null,
   "id": "330c7973-70b3-4aed-89b4-b8c8a7b6f0d5",
   "metadata": {},
   "outputs": [],
   "source": [
    "odepars = centrex.lindblad.odeParameters(\n",
    "    # Laser  properties\n",
    "    Ωl = \"Ωl0 * phase_modulation(t, β, ωphase) * gaussian_2d(vz*t, y0+vy*t, 1., z0laser, y0laser, σzlaser, σylaser)\", \n",
    "    Ωl0     = 1*syspars.Γ,    # Peak Rabi frequency of the laser [rad/s]\n",
    "    δl      = 0.0,            # detuning of the laser [rad/s]\n",
    "    \n",
    "    # Coordinates for center of laser intensity distribution\n",
    "    z0laser = 0.0,\n",
    "    y0laser = 0.,\n",
    "    \n",
    "    # Laser intensity distribution width\n",
    "    σzlaser = 1.3e-3/4 * np.sqrt(2), # Std dev for Gaussian Rabi rate distribution of laser along direction of \n",
    "                                     # flight of molecules (m)\n",
    "    σylaser = 5*1.3e-3/4 * np.sqrt(2), # Std dev for Gaussian Rabi rate distribution of along up-down direction (m)\n",
    "    \n",
    "    # Laser phase modulation\n",
    "    ωphase = syspars.Γ,       # laser phase modulation frequency [rad/s]\n",
    "    β      = 3.8,             # laser phase modulation depth [rad]\n",
    "    \n",
    "    # laser polarization switching\n",
    "    ωp = 0,           # polarization switching frequency [rad/s]\n",
    "    φp = 0.0,                 # polarization switching phase [rad]\n",
    "    Pl  = 1.,\n",
    "    Plz = 1.,\n",
    "    Plx = 0.,\n",
    "    Ply = 0.0,\n",
    "    \n",
    "    # Molecules\n",
    "    y0 = 0.,                   # molecule start y position [m]\n",
    "    vz = 184.,                 # longitudinal molecular velocity [m/s]\n",
    "    vy = 0.,                   # molecule vy [m/s]\n",
    ")"
   ]
  },
  {
   "cell_type": "markdown",
   "id": "fc4f4a86-5314-414a-9b6f-bbbaac3f7d72",
   "metadata": {},
   "source": [
    "## Define transitions"
   ]
  },
  {
   "cell_type": "code",
   "execution_count": null,
   "id": "0db8c6d8-d5e4-4e00-a68a-f3c084ebb47b",
   "metadata": {},
   "outputs": [],
   "source": [
    "transitions = [\n",
    "    centrex.couplings.TransitionSelector(\n",
    "        ground = 1*centrex.states.generate_coupled_states_ground_X(gnd_laser),\n",
    "        excited = 1*centrex.states.generate_coupled_states_excited_B(exc_laser),\n",
    "        polarizations        = [[0,0,1],[1,0,0],[0,1,0]],\n",
    "        polarization_symbols = symbols(\"Plz     Plx     Ply\"),\n",
    "        Ω = smp.Symbol('Ωl', complex = True),\n",
    "        δ = smp.Symbol('δl'),\n",
    "        description = \"R(1), F' = 3\",        \n",
    "    ),\n",
    "]"
   ]
  },
  {
   "cell_type": "markdown",
   "id": "4acdd898-fcc2-4e3a-8d45-9987c04de08e",
   "metadata": {},
   "source": [
    "## Define optical Bloch equations"
   ]
  },
  {
   "cell_type": "code",
   "execution_count": null,
   "id": "509beb61-e4b7-4cde-ad10-7c8946b47c43",
   "metadata": {},
   "outputs": [],
   "source": [
    "obe_system = centrex.lindblad.setup_OBE_system_julia(syspars, odepars, transitions, verbose=True, full_output=True,\n",
    "                                                    qn_compact=centrex.states.QuantumSelector(J=3, electronic = 'X'))"
   ]
  },
  {
   "cell_type": "markdown",
   "id": "71f6a9ce-2371-41e6-bb82-2d2adde0fa93",
   "metadata": {},
   "source": [
    "### Set peak Rabi rate based on laser power"
   ]
  },
  {
   "cell_type": "code",
   "execution_count": null,
   "id": "2929e569-4881-4b1d-b6dc-a94bd6fc75c2",
   "metadata": {},
   "outputs": [],
   "source": [
    "Ωl0 = centrex.utils.light.calculate_rabi_from_power_gaussian_beam(\n",
    "                        60e-3,\n",
    "                        obe_system.couplings[0]['main coupling'],\n",
    "                        odepars.σzlaser,\n",
    "                        odepars.σylaser\n",
    "    ).real\n",
    "print(f\"Peak Rabi rate is {Ωl0/syspars.Γ:.1f}Γ\")\n",
    "\n",
    "odepars.Ωl0 = np.abs(Ωl0)"
   ]
  },
  {
   "cell_type": "code",
   "execution_count": null,
   "id": "ff4313a7-972d-4b3b-acd2-2a017dcdac3a",
   "metadata": {},
   "outputs": [],
   "source": [
    "obe_system.couplings[0]['main coupling']"
   ]
  },
  {
   "cell_type": "markdown",
   "id": "560aded3-e31a-475a-b11d-f89f09941cb8",
   "metadata": {},
   "source": [
    "### Define initial populations"
   ]
  },
  {
   "cell_type": "code",
   "execution_count": null,
   "id": "c3e242af-bb82-4439-8856-31416a74433d",
   "metadata": {},
   "outputs": [],
   "source": [
    "init_states_selector = centrex.states.QuantumSelector(J=1, F=2,  electronic='X')\n",
    "\n",
    "ρ = centrex.utils.generate_population_states(\n",
    "                    init_states_selector.get_indices(obe_system.QN), \n",
    "                    len(obe_system.QN)\n",
    ")"
   ]
  },
  {
   "cell_type": "markdown",
   "id": "3f04d54b-a565-4ad2-b1f6-79ec3bb653dc",
   "metadata": {},
   "source": [
    "### Define time range for simulations"
   ]
  },
  {
   "cell_type": "code",
   "execution_count": null,
   "id": "3ddacd17-e237-484b-a14f-f277b0d8cfa0",
   "metadata": {},
   "outputs": [],
   "source": [
    "delta_z = 10*odepars.σzlaser\n",
    "delta_t = delta_z/odepars.vz\n",
    "t_range = (-delta_t/2, delta_t/2)"
   ]
  },
  {
   "cell_type": "markdown",
   "id": "cda007ff-6b87-4ee1-a003-dbefd4ef75dd",
   "metadata": {},
   "source": [
    "## Single Trajectory"
   ]
  },
  {
   "cell_type": "code",
   "execution_count": null,
   "id": "20a2ea72-3a8e-4303-ba43-40f6883ee8f4",
   "metadata": {},
   "outputs": [],
   "source": [
    "# %%timeit\n",
    "t_array, results = centrex.lindblad.do_simulation_single(odepars, t_range, ρ)"
   ]
  },
  {
   "cell_type": "code",
   "execution_count": null,
   "id": "96e1b0da-9033-4b6a-a255-9e46125f8270",
   "metadata": {},
   "outputs": [],
   "source": [
    "laser_intensity = np.abs(odepars.get_parameter_evolution(t_array, \"Ωl\"))"
   ]
  },
  {
   "cell_type": "code",
   "execution_count": null,
   "id": "ad6f4479-758e-4553-9ec4-437e9de1e13b",
   "metadata": {},
   "outputs": [],
   "source": [
    "fig, ax = plt.subplots() \n",
    "ax.fill_between(t_array*1e6, laser_intensity/laser_intensity.max(), lw = 2, color = 'C0',\n",
    "        label = 'Laser intensity', alpha = 0.2)\n",
    "for r, s in zip(results, obe_system.QN):\n",
    "    s = s.find_largest_component()\n",
    "    # label = f\"|{s.electronic_state}, J={s.J}, F1={s.F1}, F={s.F}, mF={s.mF}\"\n",
    "    label = s.state_string(short=True)\n",
    "    ax.plot(t_array*1e6, r, lw = 2, label = label)\n",
    "ax.set_xlabel('time [μs]')\n",
    "ax.set_ylabel('population')\n",
    "ax.legend(fontsize = 14, bbox_to_anchor = (1.,1.))\n",
    "ax.grid(True)"
   ]
  },
  {
   "cell_type": "code",
   "execution_count": null,
   "id": "aa0c0dcc-0fbb-4ce9-855d-315af728064e",
   "metadata": {},
   "outputs": [],
   "source": [
    "np.trapz(results[exc[0].get_indices(obe_system.QN),:].sum(axis = 0), t_array)*syspars.Γ"
   ]
  },
  {
   "cell_type": "markdown",
   "id": "35f39a73-af57-4899-b96c-1452b437192c",
   "metadata": {},
   "source": [
    "## Detuning scan\n",
    "### With phase modulation"
   ]
  },
  {
   "cell_type": "code",
   "execution_count": null,
   "id": "a6169b14-a76d-4b4d-9628-2706c078db44",
   "metadata": {},
   "outputs": [],
   "source": [
    "%%time\n",
    "odepars.ωphase = 1*syspars.Γ\n",
    "odepars.β = 3.8\n",
    "\n",
    "\n",
    "# Define values for detunings\n",
    "δl_scan = np.linspace(-40,40,201)*2*np.pi*1e6\n",
    "\n",
    "# Define scan parameter\n",
    "parameters = [\"δl\"]\n",
    "values = [δl_scan]\n",
    "\n",
    "# Function for calculating the output from the simulation (number of photons)\n",
    "output_func = centrex.lindblad.setup_state_integral_calculation(\n",
    "                states = exc[0].get_indices(obe_system.QN, mode = \"julia\"),\n",
    "                nphotons = True\n",
    "            )\n",
    "\n",
    "# Callback function that stops the simulation\n",
    "cb = centrex.lindblad.setup_discrete_callback_terminate(odepars, \"vz*t >= 0.01\")\n",
    "\n",
    "# Setup problem\n",
    "ens_prob = centrex.lindblad.setup_problem_parameter_scan(\n",
    "                        odepars, t_range, ρ, parameters, values, \n",
    "                        dimensions = 1,\n",
    "                        output_func = output_func,\n",
    "                        zipped = True\n",
    "            )\n",
    "\n",
    "centrex.lindblad.solve_problem_parameter_scan(ensemble_problem_name = ens_prob, saveat = 1e-7,\n",
    "                                             callback = cb)"
   ]
  },
  {
   "cell_type": "code",
   "execution_count": null,
   "id": "6c0bc774-7089-434b-b653-9e512fab07de",
   "metadata": {},
   "outputs": [],
   "source": [
    "results = centrex.lindblad.get_results_parameter_scan()\n",
    "\n",
    "fig, ax = plt.subplots()\n",
    "ax.plot(δl_scan/(2*np.pi*1e6), results, '-')\n",
    "ax.grid(True)\n",
    "ax.set_ylabel('Number of photons fluoresced')\n",
    "ax.set_xlabel('Detuning / MHz')"
   ]
  },
  {
   "cell_type": "markdown",
   "id": "6de954a3-c746-4936-ad6b-8069f61f324e",
   "metadata": {},
   "source": [
    "### No phase modulation"
   ]
  },
  {
   "cell_type": "code",
   "execution_count": null,
   "id": "3a9598dd-fe67-465c-9ae5-ddadef160043",
   "metadata": {},
   "outputs": [],
   "source": [
    "%%time\n",
    "odepars.ωphase = 0\n",
    "\n",
    "# Define values for detunings\n",
    "δl_scan = np.linspace(-40,40,101)*2*np.pi*1e6\n",
    "\n",
    "# Define scan parameter\n",
    "parameters = [\"δl\"]\n",
    "values = [δl_scan]\n",
    "\n",
    "# Function for calculating the output from the simulation (number of photons)\n",
    "output_func = centrex.lindblad.setup_state_integral_calculation(\n",
    "                states = exc[0].get_indices(obe_system.QN, mode = \"julia\"),\n",
    "                nphotons = True\n",
    "            )\n",
    "\n",
    "# Callback function that stops the simulation\n",
    "cb = centrex.lindblad.setup_discrete_callback_terminate(odepars, \"vz*t >= 0.01\")\n",
    "\n",
    "# Setup problem\n",
    "ens_prob = centrex.lindblad.setup_problem_parameter_scan(\n",
    "                        odepars, t_range, ρ, parameters, values, \n",
    "                        dimensions = 1,\n",
    "                        output_func = output_func,\n",
    "                        zipped = True\n",
    "            )\n",
    "\n",
    "centrex.lindblad.solve_problem_parameter_scan(ensemble_problem_name = ens_prob, saveat = 1e-7,\n",
    "                                             callback = cb)"
   ]
  },
  {
   "cell_type": "code",
   "execution_count": null,
   "id": "df0de43b-fc80-4114-9a7a-77db77556f26",
   "metadata": {},
   "outputs": [],
   "source": [
    "results = centrex.lindblad.get_results_parameter_scan()\n",
    "fig, ax = plt.subplots()\n",
    "ax.plot(δl_scan/(2*np.pi*1e6), results, '-')\n",
    "ax.grid(True)\n",
    "ax.set_ylabel('Number of photons fluoresced')\n",
    "ax.set_xlabel('Detuning / MHz')"
   ]
  },
  {
   "cell_type": "markdown",
   "id": "5637efa0-5f45-4b37-b555-ee439c1fe2f1",
   "metadata": {},
   "source": [
    "## Frequency scan for trajectory ensemble"
   ]
  },
  {
   "cell_type": "markdown",
   "id": "49aa55ec-ad1b-4199-9f76-969ece0e4d5c",
   "metadata": {},
   "source": [
    "### Load trajectories from file"
   ]
  },
  {
   "cell_type": "code",
   "execution_count": null,
   "id": "8af512f0-e536-4b77-bb6e-d47372544a6b",
   "metadata": {},
   "outputs": [],
   "source": [
    "filepath = Path(\"C:/Users/Oskari/Documents/GitHub/centrex-molecule-trajectories/saved_data/SPA_pos_vel_distr.hdf\")\n",
    "run_name = \"SPA position distributions - apertures - ACME ini pos - 5-16-2022 - 1e9\"\n",
    "result_trajectories = trajectories.utils.import_sim_result_from_hdf(filepath, run_name, n_traj=10000)"
   ]
  },
  {
   "cell_type": "markdown",
   "id": "61ea0ca8-6ba1-4cda-b025-5cb4582f14cd",
   "metadata": {},
   "source": [
    "### Find positions and velocities just before detection"
   ]
  },
  {
   "cell_type": "markdown",
   "id": "ab17cf34-668a-4da9-a088-dc5c2fa59155",
   "metadata": {},
   "source": [
    "#### Positions"
   ]
  },
  {
   "cell_type": "code",
   "execution_count": null,
   "id": "58d1add1-7dca-4ab2-af2b-98ef479ebe8c",
   "metadata": {},
   "outputs": [],
   "source": [
    "# Define z-position of the detection region\n",
    "z = result_trajectories.beamline.find_element('laser').z0 - 5*odepars.σzlaser\n",
    "\n",
    "# Find radial positions\n",
    "rho = trajectories.post_processing.find_radial_pos_dist(result_trajectories, z, elements=['Detected'])\n",
    "\n",
    "# Make a dataframe\n",
    "df_rho = pd.DataFrame({'x':rho[:,0], 'y':rho[:,1]})\n",
    "df_rho['x_mm'] = df_rho.x*1e3\n",
    "df_rho['y_mm'] = df_rho.y*1e3\n",
    "\n",
    "\n",
    "# Plot histograms of position as check\n",
    "fig, (ax, ax1) = plt.subplots(2,1, figsize=(16, 9))\n",
    "ax = sns.histplot(data = df_rho, x = 'x_mm', stat = 'probability', kde = False, bins = np.linspace(-20, 20, 51),\n",
    "                 ax = ax)\n",
    "ax.set_xlabel(\"X-position / mm\")\n",
    "\n",
    "ax1 = sns.histplot(data = df_rho, x = 'y_mm', stat = 'probability', kde = False, bins = np.linspace(-20, 20, 51),\n",
    "                   ax = ax1)\n",
    "ax1.set_xlabel(\"Y-position / mm\")"
   ]
  },
  {
   "cell_type": "markdown",
   "id": "243cffda-fbb8-48e4-bccd-5b426d51efd7",
   "metadata": {},
   "source": [
    "#### Velocities"
   ]
  },
  {
   "cell_type": "code",
   "execution_count": null,
   "id": "e38a380d-c8f6-4fd8-932b-556439cc8a72",
   "metadata": {},
   "outputs": [],
   "source": [
    "vs = trajectories.post_processing.find_vel_dist(result_trajectories, z)\n",
    "df_v = pd.DataFrame({'vx':vs[:,0], 'vy':vs[:,1], 'vz':vs[:,2]})\n",
    "\n",
    "fig, (ax, ax2, ax3) = plt.subplots(1,3,figsize=(32, 9))\n",
    "ax3 = sns.histplot(data = df_v, x = 'vz', stat = 'count', kde = False, ax = ax3, )\n",
    "ax3.set_xlabel(\"Z-velocity / m/s\")\n",
    "ax.set_xlabel(\"X-velocity / m/s\")\n",
    "ax2.set_xlabel(\"Y-velocity / m/s\")\n",
    "\n",
    "ax = sns.histplot(data = df_v, x = 'vx', stat = 'count', kde = False, ax = ax, bins = np.linspace(-6, 6, 51))\n",
    "ax2 = sns.histplot(data = df_v, x = 'vy', stat = 'count', kde = False, ax = ax2, bins = np.linspace(-6, 6, 51))\n"
   ]
  },
  {
   "cell_type": "markdown",
   "id": "8ea02677-8346-43ae-b796-03bdc3c9d19c",
   "metadata": {},
   "source": [
    "#### Merge position and velocity"
   ]
  },
  {
   "cell_type": "code",
   "execution_count": null,
   "id": "16fe84c9-ee1e-4c7e-9382-0f04e9d132e1",
   "metadata": {},
   "outputs": [],
   "source": [
    "df_traj = df_rho.merge(df_v, left_index = True, right_index = True)"
   ]
  },
  {
   "cell_type": "markdown",
   "id": "c6f59e54-1c7b-47c1-9b3f-ddba594f1d75",
   "metadata": {},
   "source": [
    "#### Calculate Doppler shifts"
   ]
  },
  {
   "cell_type": "code",
   "execution_count": null,
   "id": "89e05cf6-163d-41ee-957c-65f4fff06efc",
   "metadata": {},
   "outputs": [],
   "source": [
    "df_traj['doppler'] = 2*np.pi*df_traj.vx/271.7e-9"
   ]
  },
  {
   "cell_type": "markdown",
   "id": "0994970d-14ba-412f-a8a7-79184a2b7822",
   "metadata": {},
   "source": [
    "#### Calculate amount of time that needs to be simulated"
   ]
  },
  {
   "cell_type": "code",
   "execution_count": null,
   "id": "c915cc23-6407-41d5-94da-52d561e500f7",
   "metadata": {},
   "outputs": [],
   "source": [
    "df_traj['delta_t'] = 10*odepars.σzlaser/df_traj.vz"
   ]
  },
  {
   "cell_type": "markdown",
   "id": "850f43a9-3735-4fc3-b8d4-1e1cec6ee4f5",
   "metadata": {},
   "source": [
    "### Run simulation"
   ]
  },
  {
   "cell_type": "code",
   "execution_count": null,
   "id": "0b1758c0-f272-45b4-901e-156e929a930f",
   "metadata": {},
   "outputs": [],
   "source": [
    "%%time\n",
    "# Define number of trajectories\n",
    "ntraj = 100\n",
    "\n",
    "# Set parameters for the simulation\n",
    "odepars.ωphase = 1*syspars.Γ\n",
    "odepars.z0laser = 5*odepars.σzlaser\n",
    "\n",
    "# Define laser detunings\n",
    "laser_detunings = np.linspace(-40,40, 101)*2*np.pi*1e6\n",
    "\n",
    "df_traj_ens = run_traj_ensemble_simulation(df_traj, odepars, obe_system, exc, ρ,\"R(1),_F'=3\", laser_detunings = laser_detunings, n_traj = ntraj)"
   ]
  },
  {
   "cell_type": "code",
   "execution_count": null,
   "id": "51cc140e-7549-41c5-8844-8524187ec44d",
   "metadata": {},
   "outputs": [],
   "source": [
    "df_traj_ens['laser_detuning_MHz'] = df_traj_ens.laser_detuning/(2*np.pi*1e6)"
   ]
  },
  {
   "cell_type": "code",
   "execution_count": null,
   "id": "75868efb-804c-4cd1-bc68-7939a2f2f684",
   "metadata": {},
   "outputs": [],
   "source": [
    "mean_photons = df_traj_ens.groupby('laser_detuning').mean().reset_index()\n",
    "mean_photons['laser_detuning_MHz'] = mean_photons.laser_detuning/(2*np.pi*1e6)"
   ]
  },
  {
   "cell_type": "code",
   "execution_count": null,
   "id": "a960d277-056a-41dc-8086-8cec85084bbf",
   "metadata": {},
   "outputs": [],
   "source": [
    "ax = sns.lineplot(data = mean_photons, x = 'laser_detuning_MHz', y = 'n_photons')\n",
    "ax.set_xlabel('Laser detuning / MHz')\n",
    "ax.set_ylabel('Mean number of photons\\nper molecule')"
   ]
  },
  {
   "cell_type": "markdown",
   "id": "c30f977d-6ca8-4e1e-a44e-8effefe15c66",
   "metadata": {},
   "source": [
    "## Bootstrapped simulation"
   ]
  },
  {
   "cell_type": "code",
   "execution_count": null,
   "id": "bead3b12-39e1-439a-9eab-3afd9e08d656",
   "metadata": {},
   "outputs": [],
   "source": [
    "%%time\n",
    "# Define number of trajectories and bootstraps\n",
    "ntraj = 100\n",
    "n_bs = 100\n",
    "\n",
    "# Set parameters for the simulation\n",
    "odepars.ωphase = 1*syspars.Γ\n",
    "odepars.z0laser = 5*odepars.σzlaser\n",
    "\n",
    "# Define laser detunings\n",
    "laser_detunings = np.linspace(-40,40, 101)*2*np.pi*1e6\n",
    "\n",
    "df_agg, df_bs, df_raw = bootstrap_frequency_scan(df_traj, odepars, obe_system, exc, ρ,\"R(1)_F'=3\", laser_detunings = laser_detunings, n_traj = ntraj, n_bs = n_bs, save = True)"
   ]
  },
  {
   "cell_type": "code",
   "execution_count": null,
   "id": "832423cb-3530-49a5-8887-639cb14c345f",
   "metadata": {},
   "outputs": [],
   "source": [
    "df_agg['detuning_MHz'] = df_agg.laser_detuning/(2*np.pi*1e6)\n",
    "fig, ax = plt.subplots()\n",
    "ax.plot(df_agg.detuning_MHz, df_agg.n_photons['mean'], color = 'C0')\n",
    "ax.fill_between(df_agg.detuning_MHz, df_agg.n_photons['mean']-df_agg.n_photons['sem'], df_agg.n_photons['mean']+df_agg.n_photons['sem'], color = 'C0', alpha = 0.2)\n",
    "ax.set_xlabel('Laser detuning / MHz')\n",
    "ax.set_ylabel('Mean number of photons\\nper molecule')"
   ]
  }
 ],
 "metadata": {
  "kernelspec": {
   "display_name": "Python 3 (ipykernel)",
   "language": "python",
   "name": "python3"
  },
  "language_info": {
   "codemirror_mode": {
    "name": "ipython",
    "version": 3
   },
   "file_extension": ".py",
   "mimetype": "text/x-python",
   "name": "python",
   "nbconvert_exporter": "python",
   "pygments_lexer": "ipython3",
   "version": "3.9.7"
  }
 },
 "nbformat": 4,
 "nbformat_minor": 5
}
